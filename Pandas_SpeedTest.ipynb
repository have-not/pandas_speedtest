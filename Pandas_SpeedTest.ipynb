{
  "nbformat": 4,
  "nbformat_minor": 0,
  "metadata": {
    "colab": {
      "name": "Pandas_SpeedTest.ipynb",
      "provenance": [],
      "toc_visible": true
    },
    "kernelspec": {
      "name": "python3",
      "display_name": "Python 3"
    }
  },
  "cells": [
    {
      "cell_type": "markdown",
      "metadata": {
        "id": "en_Frf5GAcug",
        "colab_type": "text"
      },
      "source": [
        "# Pandas 速度検証"
      ]
    },
    {
      "cell_type": "code",
      "metadata": {
        "id": "x8xUjIpL3_9R",
        "colab_type": "code",
        "colab": {}
      },
      "source": [
        "import pandas as pd\n",
        "import numpy as np\n",
        "import time"
      ],
      "execution_count": 0,
      "outputs": []
    },
    {
      "cell_type": "code",
      "metadata": {
        "id": "f9xfeD7r4JA3",
        "colab_type": "code",
        "colab": {
          "base_uri": "https://localhost:8080/",
          "height": 204
        },
        "outputId": "68a636f0-ea77-4160-d2f7-df14e43b4285"
      },
      "source": [
        "df = pd.DataFrame({ 'A' : np.arange(100000),\n",
        "                      'B' : 1,\n",
        "                      'C' : (np.arange(100000)+1)%2\n",
        "                   })\n",
        "df.head()"
      ],
      "execution_count": 2,
      "outputs": [
        {
          "output_type": "execute_result",
          "data": {
            "text/html": [
              "<div>\n",
              "<style scoped>\n",
              "    .dataframe tbody tr th:only-of-type {\n",
              "        vertical-align: middle;\n",
              "    }\n",
              "\n",
              "    .dataframe tbody tr th {\n",
              "        vertical-align: top;\n",
              "    }\n",
              "\n",
              "    .dataframe thead th {\n",
              "        text-align: right;\n",
              "    }\n",
              "</style>\n",
              "<table border=\"1\" class=\"dataframe\">\n",
              "  <thead>\n",
              "    <tr style=\"text-align: right;\">\n",
              "      <th></th>\n",
              "      <th>A</th>\n",
              "      <th>B</th>\n",
              "      <th>C</th>\n",
              "    </tr>\n",
              "  </thead>\n",
              "  <tbody>\n",
              "    <tr>\n",
              "      <th>0</th>\n",
              "      <td>0</td>\n",
              "      <td>1</td>\n",
              "      <td>1</td>\n",
              "    </tr>\n",
              "    <tr>\n",
              "      <th>1</th>\n",
              "      <td>1</td>\n",
              "      <td>1</td>\n",
              "      <td>0</td>\n",
              "    </tr>\n",
              "    <tr>\n",
              "      <th>2</th>\n",
              "      <td>2</td>\n",
              "      <td>1</td>\n",
              "      <td>1</td>\n",
              "    </tr>\n",
              "    <tr>\n",
              "      <th>3</th>\n",
              "      <td>3</td>\n",
              "      <td>1</td>\n",
              "      <td>0</td>\n",
              "    </tr>\n",
              "    <tr>\n",
              "      <th>4</th>\n",
              "      <td>4</td>\n",
              "      <td>1</td>\n",
              "      <td>1</td>\n",
              "    </tr>\n",
              "  </tbody>\n",
              "</table>\n",
              "</div>"
            ],
            "text/plain": [
              "   A  B  C\n",
              "0  0  1  1\n",
              "1  1  1  0\n",
              "2  2  1  1\n",
              "3  3  1  0\n",
              "4  4  1  1"
            ]
          },
          "metadata": {
            "tags": []
          },
          "execution_count": 2
        }
      ]
    },
    {
      "cell_type": "markdown",
      "metadata": {
        "id": "UnSH1aeCARzY",
        "colab_type": "text"
      },
      "source": [
        "## 列間の要素同士のデータ操作"
      ]
    },
    {
      "cell_type": "markdown",
      "metadata": {
        "id": "mv1TdGmJAi9P",
        "colab_type": "text"
      },
      "source": [
        "### 内包表記の列比較"
      ]
    },
    {
      "cell_type": "code",
      "metadata": {
        "id": "Yd16_ojR912b",
        "colab_type": "code",
        "colab": {}
      },
      "source": [
        "def count(a,b):\n",
        "  return (np.sum([1 if str(i)==str(j) else 0 for i,j in zip(a,b)]))"
      ],
      "execution_count": 0,
      "outputs": []
    },
    {
      "cell_type": "code",
      "metadata": {
        "id": "hVVEDe4p4toG",
        "colab_type": "code",
        "colab": {
          "base_uri": "https://localhost:8080/",
          "height": 51
        },
        "outputId": "f4879729-647d-4ead-edb1-59c3411a73d2"
      },
      "source": [
        "start = time.time()\n",
        "print(count(df['B'],df['C']))\n",
        "elapsed_time = time.time() - start\n",
        "print(elapsed_time)"
      ],
      "execution_count": 4,
      "outputs": [
        {
          "output_type": "stream",
          "text": [
            "50000\n",
            "0.06753230094909668\n"
          ],
          "name": "stdout"
        }
      ]
    },
    {
      "cell_type": "markdown",
      "metadata": {
        "id": "kh6IIwdMAnHy",
        "colab_type": "text"
      },
      "source": [
        "### Pandasの列比較"
      ]
    },
    {
      "cell_type": "code",
      "metadata": {
        "id": "Ki37d1b4-MOw",
        "colab_type": "code",
        "colab": {
          "base_uri": "https://localhost:8080/",
          "height": 51
        },
        "outputId": "3ccdee37-044c-4eeb-9db8-30016356e61a"
      },
      "source": [
        "start = time.time()\n",
        "print((df['B']==df['C']).astype(int).sum())\n",
        "elapsed_time = time.time() - start\n",
        "print(elapsed_time)"
      ],
      "execution_count": 5,
      "outputs": [
        {
          "output_type": "stream",
          "text": [
            "50000\n",
            "0.004420042037963867\n"
          ],
          "name": "stdout"
        }
      ]
    },
    {
      "cell_type": "markdown",
      "metadata": {
        "id": "iGSiZu0Ga1o8",
        "colab_type": "text"
      },
      "source": [
        "### 内包表記の列間の計算"
      ]
    },
    {
      "cell_type": "code",
      "metadata": {
        "id": "qfBharRybPWi",
        "colab_type": "code",
        "colab": {
          "base_uri": "https://localhost:8080/",
          "height": 238
        },
        "outputId": "707959a5-30a6-46f9-fcf9-6687d35649de"
      },
      "source": [
        "start = time.time()\n",
        "df['D'] = [i+j for i,j in zip(df['B'],df['C'])]\n",
        "print(df['D'])\n",
        "elapsed_time = time.time() - start\n",
        "print(elapsed_time)"
      ],
      "execution_count": 6,
      "outputs": [
        {
          "output_type": "stream",
          "text": [
            "0        2\n",
            "1        1\n",
            "2        2\n",
            "3        1\n",
            "4        2\n",
            "        ..\n",
            "99995    1\n",
            "99996    2\n",
            "99997    1\n",
            "99998    2\n",
            "99999    1\n",
            "Name: D, Length: 100000, dtype: int64\n",
            "0.05168890953063965\n"
          ],
          "name": "stdout"
        }
      ]
    },
    {
      "cell_type": "markdown",
      "metadata": {
        "id": "o8KLcHBCcOKL",
        "colab_type": "text"
      },
      "source": [
        "### Pandas列間の計算"
      ]
    },
    {
      "cell_type": "code",
      "metadata": {
        "id": "Hulw12cIa9dQ",
        "colab_type": "code",
        "colab": {
          "base_uri": "https://localhost:8080/",
          "height": 238
        },
        "outputId": "428a596b-c858-467d-a1ee-3c7dd3c1a2c0"
      },
      "source": [
        "start = time.time()\n",
        "df['E'] = df['B']+df['C']\n",
        "print(df['E'])\n",
        "elapsed_time = time.time() - start\n",
        "print(elapsed_time)"
      ],
      "execution_count": 7,
      "outputs": [
        {
          "output_type": "stream",
          "text": [
            "0        2\n",
            "1        1\n",
            "2        2\n",
            "3        1\n",
            "4        2\n",
            "        ..\n",
            "99995    1\n",
            "99996    2\n",
            "99997    1\n",
            "99998    2\n",
            "99999    1\n",
            "Name: E, Length: 100000, dtype: int64\n",
            "0.014134883880615234\n"
          ],
          "name": "stdout"
        }
      ]
    },
    {
      "cell_type": "markdown",
      "metadata": {
        "id": "Bakm94EeAyMC",
        "colab_type": "text"
      },
      "source": [
        "## 要素への関数適用"
      ]
    },
    {
      "cell_type": "markdown",
      "metadata": {
        "id": "TCw9SSnnBnMh",
        "colab_type": "text"
      },
      "source": [
        "### 内包表記"
      ]
    },
    {
      "cell_type": "code",
      "metadata": {
        "id": "zeIXtf2aA_IM",
        "colab_type": "code",
        "colab": {
          "base_uri": "https://localhost:8080/",
          "height": 136
        },
        "outputId": "5dbd8625-f221-44b0-b696-5985be8e3b5f"
      },
      "source": [
        "df = pd.DataFrame({ 'A' : np.arange(100000)})\n",
        "start = time.time()\n",
        "df['B'] = [i if i%2==0 else np.nan for i in df['A']]\n",
        "elapsed_time = time.time() - start\n",
        "print(elapsed_time)\n",
        "df['B'].head()"
      ],
      "execution_count": 8,
      "outputs": [
        {
          "output_type": "stream",
          "text": [
            "0.045440673828125\n"
          ],
          "name": "stdout"
        },
        {
          "output_type": "execute_result",
          "data": {
            "text/plain": [
              "0    0.0\n",
              "1    NaN\n",
              "2    2.0\n",
              "3    NaN\n",
              "4    4.0\n",
              "Name: B, dtype: float64"
            ]
          },
          "metadata": {
            "tags": []
          },
          "execution_count": 8
        }
      ]
    },
    {
      "cell_type": "markdown",
      "metadata": {
        "id": "6E4v3ktIDLIL",
        "colab_type": "text"
      },
      "source": [
        "### lambda式"
      ]
    },
    {
      "cell_type": "code",
      "metadata": {
        "id": "ixVKsuYFDo04",
        "colab_type": "code",
        "colab": {
          "base_uri": "https://localhost:8080/",
          "height": 136
        },
        "outputId": "92ef468d-3915-4e86-da76-76c30005e214"
      },
      "source": [
        "df = pd.DataFrame({ 'A' : np.arange(100000)})\n",
        "start = time.time()\n",
        "df['B'] = df['A'].map(lambda x: x if x%2==0 else np.nan)\n",
        "elapsed_time = time.time() - start\n",
        "print(elapsed_time)\n",
        "df['B'].head()"
      ],
      "execution_count": 9,
      "outputs": [
        {
          "output_type": "stream",
          "text": [
            "0.039142608642578125\n"
          ],
          "name": "stdout"
        },
        {
          "output_type": "execute_result",
          "data": {
            "text/plain": [
              "0    0.0\n",
              "1    NaN\n",
              "2    2.0\n",
              "3    NaN\n",
              "4    4.0\n",
              "Name: B, dtype: float64"
            ]
          },
          "metadata": {
            "tags": []
          },
          "execution_count": 9
        }
      ]
    },
    {
      "cell_type": "markdown",
      "metadata": {
        "id": "B7o1pgZNJaZj",
        "colab_type": "text"
      },
      "source": [
        "## カウント"
      ]
    },
    {
      "cell_type": "code",
      "metadata": {
        "id": "r2L3SiLmHtN6",
        "colab_type": "code",
        "colab": {
          "base_uri": "https://localhost:8080/",
          "height": 419
        },
        "outputId": "b2e437b5-db4f-43b5-915b-162d89333a8d"
      },
      "source": [
        "df = pd.DataFrame({ 'A' : np.arange(100000),\n",
        "                      'B' : np.random.randint(0, 100000, (100000))\n",
        "                   })\n",
        "df"
      ],
      "execution_count": 10,
      "outputs": [
        {
          "output_type": "execute_result",
          "data": {
            "text/html": [
              "<div>\n",
              "<style scoped>\n",
              "    .dataframe tbody tr th:only-of-type {\n",
              "        vertical-align: middle;\n",
              "    }\n",
              "\n",
              "    .dataframe tbody tr th {\n",
              "        vertical-align: top;\n",
              "    }\n",
              "\n",
              "    .dataframe thead th {\n",
              "        text-align: right;\n",
              "    }\n",
              "</style>\n",
              "<table border=\"1\" class=\"dataframe\">\n",
              "  <thead>\n",
              "    <tr style=\"text-align: right;\">\n",
              "      <th></th>\n",
              "      <th>A</th>\n",
              "      <th>B</th>\n",
              "    </tr>\n",
              "  </thead>\n",
              "  <tbody>\n",
              "    <tr>\n",
              "      <th>0</th>\n",
              "      <td>0</td>\n",
              "      <td>64098</td>\n",
              "    </tr>\n",
              "    <tr>\n",
              "      <th>1</th>\n",
              "      <td>1</td>\n",
              "      <td>72369</td>\n",
              "    </tr>\n",
              "    <tr>\n",
              "      <th>2</th>\n",
              "      <td>2</td>\n",
              "      <td>69515</td>\n",
              "    </tr>\n",
              "    <tr>\n",
              "      <th>3</th>\n",
              "      <td>3</td>\n",
              "      <td>29739</td>\n",
              "    </tr>\n",
              "    <tr>\n",
              "      <th>4</th>\n",
              "      <td>4</td>\n",
              "      <td>21142</td>\n",
              "    </tr>\n",
              "    <tr>\n",
              "      <th>...</th>\n",
              "      <td>...</td>\n",
              "      <td>...</td>\n",
              "    </tr>\n",
              "    <tr>\n",
              "      <th>99995</th>\n",
              "      <td>99995</td>\n",
              "      <td>7862</td>\n",
              "    </tr>\n",
              "    <tr>\n",
              "      <th>99996</th>\n",
              "      <td>99996</td>\n",
              "      <td>93390</td>\n",
              "    </tr>\n",
              "    <tr>\n",
              "      <th>99997</th>\n",
              "      <td>99997</td>\n",
              "      <td>18002</td>\n",
              "    </tr>\n",
              "    <tr>\n",
              "      <th>99998</th>\n",
              "      <td>99998</td>\n",
              "      <td>64115</td>\n",
              "    </tr>\n",
              "    <tr>\n",
              "      <th>99999</th>\n",
              "      <td>99999</td>\n",
              "      <td>46676</td>\n",
              "    </tr>\n",
              "  </tbody>\n",
              "</table>\n",
              "<p>100000 rows × 2 columns</p>\n",
              "</div>"
            ],
            "text/plain": [
              "           A      B\n",
              "0          0  64098\n",
              "1          1  72369\n",
              "2          2  69515\n",
              "3          3  29739\n",
              "4          4  21142\n",
              "...      ...    ...\n",
              "99995  99995   7862\n",
              "99996  99996  93390\n",
              "99997  99997  18002\n",
              "99998  99998  64115\n",
              "99999  99999  46676\n",
              "\n",
              "[100000 rows x 2 columns]"
            ]
          },
          "metadata": {
            "tags": []
          },
          "execution_count": 10
        }
      ]
    },
    {
      "cell_type": "markdown",
      "metadata": {
        "id": "BqOjEbH-JSyD",
        "colab_type": "text"
      },
      "source": [
        "### len()+unique()"
      ]
    },
    {
      "cell_type": "code",
      "metadata": {
        "id": "NaQreiBQHUb2",
        "colab_type": "code",
        "colab": {
          "base_uri": "https://localhost:8080/",
          "height": 51
        },
        "outputId": "4c23d9ca-e8ca-4873-ee75-f56ff55d1eef"
      },
      "source": [
        "start = time.time()\n",
        "print(len(df['B'].unique()))\n",
        "elapsed_time = time.time() - start\n",
        "print(elapsed_time)"
      ],
      "execution_count": 11,
      "outputs": [
        {
          "output_type": "stream",
          "text": [
            "63242\n",
            "0.006842374801635742\n"
          ],
          "name": "stdout"
        }
      ]
    },
    {
      "cell_type": "markdown",
      "metadata": {
        "id": "BLPjR68uJhx-",
        "colab_type": "text"
      },
      "source": [
        "### nunique()"
      ]
    },
    {
      "cell_type": "code",
      "metadata": {
        "id": "WiaYQUHkIssY",
        "colab_type": "code",
        "colab": {
          "base_uri": "https://localhost:8080/",
          "height": 51
        },
        "outputId": "a66ec20a-4cb3-45ec-d305-b2fc73a19b7d"
      },
      "source": [
        "start = time.time()\n",
        "print(df['B'].nunique())\n",
        "elapsed_time = time.time() - start\n",
        "print(elapsed_time)"
      ],
      "execution_count": 12,
      "outputs": [
        {
          "output_type": "stream",
          "text": [
            "63242\n",
            "0.00565648078918457\n"
          ],
          "name": "stdout"
        }
      ]
    },
    {
      "cell_type": "markdown",
      "metadata": {
        "id": "6e0sgsH3VZvZ",
        "colab_type": "text"
      },
      "source": [
        "## その他カウント"
      ]
    },
    {
      "cell_type": "code",
      "metadata": {
        "id": "LPMrol58LqYh",
        "colab_type": "code",
        "colab": {
          "base_uri": "https://localhost:8080/",
          "height": 419
        },
        "outputId": "6b27f94a-a509-4bbd-adc0-30dd0fa21d4b"
      },
      "source": [
        "df = pd.DataFrame({ 'A' : np.arange(100000),\n",
        "                      'B' : 'To be or not to be that is the question'\n",
        "                   })\n",
        "df"
      ],
      "execution_count": 13,
      "outputs": [
        {
          "output_type": "execute_result",
          "data": {
            "text/html": [
              "<div>\n",
              "<style scoped>\n",
              "    .dataframe tbody tr th:only-of-type {\n",
              "        vertical-align: middle;\n",
              "    }\n",
              "\n",
              "    .dataframe tbody tr th {\n",
              "        vertical-align: top;\n",
              "    }\n",
              "\n",
              "    .dataframe thead th {\n",
              "        text-align: right;\n",
              "    }\n",
              "</style>\n",
              "<table border=\"1\" class=\"dataframe\">\n",
              "  <thead>\n",
              "    <tr style=\"text-align: right;\">\n",
              "      <th></th>\n",
              "      <th>A</th>\n",
              "      <th>B</th>\n",
              "    </tr>\n",
              "  </thead>\n",
              "  <tbody>\n",
              "    <tr>\n",
              "      <th>0</th>\n",
              "      <td>0</td>\n",
              "      <td>To be or not to be that is the question</td>\n",
              "    </tr>\n",
              "    <tr>\n",
              "      <th>1</th>\n",
              "      <td>1</td>\n",
              "      <td>To be or not to be that is the question</td>\n",
              "    </tr>\n",
              "    <tr>\n",
              "      <th>2</th>\n",
              "      <td>2</td>\n",
              "      <td>To be or not to be that is the question</td>\n",
              "    </tr>\n",
              "    <tr>\n",
              "      <th>3</th>\n",
              "      <td>3</td>\n",
              "      <td>To be or not to be that is the question</td>\n",
              "    </tr>\n",
              "    <tr>\n",
              "      <th>4</th>\n",
              "      <td>4</td>\n",
              "      <td>To be or not to be that is the question</td>\n",
              "    </tr>\n",
              "    <tr>\n",
              "      <th>...</th>\n",
              "      <td>...</td>\n",
              "      <td>...</td>\n",
              "    </tr>\n",
              "    <tr>\n",
              "      <th>99995</th>\n",
              "      <td>99995</td>\n",
              "      <td>To be or not to be that is the question</td>\n",
              "    </tr>\n",
              "    <tr>\n",
              "      <th>99996</th>\n",
              "      <td>99996</td>\n",
              "      <td>To be or not to be that is the question</td>\n",
              "    </tr>\n",
              "    <tr>\n",
              "      <th>99997</th>\n",
              "      <td>99997</td>\n",
              "      <td>To be or not to be that is the question</td>\n",
              "    </tr>\n",
              "    <tr>\n",
              "      <th>99998</th>\n",
              "      <td>99998</td>\n",
              "      <td>To be or not to be that is the question</td>\n",
              "    </tr>\n",
              "    <tr>\n",
              "      <th>99999</th>\n",
              "      <td>99999</td>\n",
              "      <td>To be or not to be that is the question</td>\n",
              "    </tr>\n",
              "  </tbody>\n",
              "</table>\n",
              "<p>100000 rows × 2 columns</p>\n",
              "</div>"
            ],
            "text/plain": [
              "           A                                        B\n",
              "0          0  To be or not to be that is the question\n",
              "1          1  To be or not to be that is the question\n",
              "2          2  To be or not to be that is the question\n",
              "3          3  To be or not to be that is the question\n",
              "4          4  To be or not to be that is the question\n",
              "...      ...                                      ...\n",
              "99995  99995  To be or not to be that is the question\n",
              "99996  99996  To be or not to be that is the question\n",
              "99997  99997  To be or not to be that is the question\n",
              "99998  99998  To be or not to be that is the question\n",
              "99999  99999  To be or not to be that is the question\n",
              "\n",
              "[100000 rows x 2 columns]"
            ]
          },
          "metadata": {
            "tags": []
          },
          "execution_count": 13
        }
      ]
    },
    {
      "cell_type": "code",
      "metadata": {
        "id": "NpFWA75dMAF7",
        "colab_type": "code",
        "colab": {}
      },
      "source": [
        "import collections"
      ],
      "execution_count": 0,
      "outputs": []
    },
    {
      "cell_type": "code",
      "metadata": {
        "id": "r1x8hUpYLf2r",
        "colab_type": "code",
        "colab": {
          "base_uri": "https://localhost:8080/",
          "height": 51
        },
        "outputId": "6e04ed73-b1a7-4798-fdbb-19d87d79c8c2"
      },
      "source": [
        "start = time.time()\n",
        "print(collections.Counter([i for j in df['B'].values.tolist() for i in j.split(\" \")]))\n",
        "elapsed_time = time.time() - start\n",
        "print(elapsed_time)"
      ],
      "execution_count": 15,
      "outputs": [
        {
          "output_type": "stream",
          "text": [
            "Counter({'be': 200000, 'To': 100000, 'or': 100000, 'not': 100000, 'to': 100000, 'that': 100000, 'is': 100000, 'the': 100000, 'question': 100000})\n",
            "0.2266998291015625\n"
          ],
          "name": "stdout"
        }
      ]
    }
  ]
}