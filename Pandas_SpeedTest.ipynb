{
  "nbformat": 4,
  "nbformat_minor": 0,
  "metadata": {
    "colab": {
      "name": "Pandas_SpeedTest.ipynb",
      "provenance": [],
      "toc_visible": true
    },
    "kernelspec": {
      "name": "python3",
      "display_name": "Python 3"
    }
  },
  "cells": [
    {
      "cell_type": "markdown",
      "metadata": {
        "id": "en_Frf5GAcug",
        "colab_type": "text"
      },
      "source": [
        "# Pandas 速度検証"
      ]
    },
    {
      "cell_type": "code",
      "metadata": {
        "id": "x8xUjIpL3_9R",
        "colab_type": "code",
        "colab": {}
      },
      "source": [
        "import pandas as pd\n",
        "import numpy as np\n",
        "import time"
      ],
      "execution_count": 0,
      "outputs": []
    },
    {
      "cell_type": "code",
      "metadata": {
        "id": "f9xfeD7r4JA3",
        "colab_type": "code",
        "colab": {
          "base_uri": "https://localhost:8080/",
          "height": 204
        },
        "outputId": "b23f4c7f-444d-4960-f417-54e62925956b"
      },
      "source": [
        "df = pd.DataFrame({ 'A' : np.arange(100000),\n",
        "                      'B' : 1,\n",
        "                      'C' : (np.arange(100000)+1)%2\n",
        "                   })\n",
        "df.head()"
      ],
      "execution_count": 22,
      "outputs": [
        {
          "output_type": "execute_result",
          "data": {
            "text/html": [
              "<div>\n",
              "<style scoped>\n",
              "    .dataframe tbody tr th:only-of-type {\n",
              "        vertical-align: middle;\n",
              "    }\n",
              "\n",
              "    .dataframe tbody tr th {\n",
              "        vertical-align: top;\n",
              "    }\n",
              "\n",
              "    .dataframe thead th {\n",
              "        text-align: right;\n",
              "    }\n",
              "</style>\n",
              "<table border=\"1\" class=\"dataframe\">\n",
              "  <thead>\n",
              "    <tr style=\"text-align: right;\">\n",
              "      <th></th>\n",
              "      <th>A</th>\n",
              "      <th>B</th>\n",
              "      <th>C</th>\n",
              "    </tr>\n",
              "  </thead>\n",
              "  <tbody>\n",
              "    <tr>\n",
              "      <th>0</th>\n",
              "      <td>0</td>\n",
              "      <td>1</td>\n",
              "      <td>1</td>\n",
              "    </tr>\n",
              "    <tr>\n",
              "      <th>1</th>\n",
              "      <td>1</td>\n",
              "      <td>1</td>\n",
              "      <td>0</td>\n",
              "    </tr>\n",
              "    <tr>\n",
              "      <th>2</th>\n",
              "      <td>2</td>\n",
              "      <td>1</td>\n",
              "      <td>1</td>\n",
              "    </tr>\n",
              "    <tr>\n",
              "      <th>3</th>\n",
              "      <td>3</td>\n",
              "      <td>1</td>\n",
              "      <td>0</td>\n",
              "    </tr>\n",
              "    <tr>\n",
              "      <th>4</th>\n",
              "      <td>4</td>\n",
              "      <td>1</td>\n",
              "      <td>1</td>\n",
              "    </tr>\n",
              "  </tbody>\n",
              "</table>\n",
              "</div>"
            ],
            "text/plain": [
              "   A  B  C\n",
              "0  0  1  1\n",
              "1  1  1  0\n",
              "2  2  1  1\n",
              "3  3  1  0\n",
              "4  4  1  1"
            ]
          },
          "metadata": {
            "tags": []
          },
          "execution_count": 22
        }
      ]
    },
    {
      "cell_type": "markdown",
      "metadata": {
        "id": "UnSH1aeCARzY",
        "colab_type": "text"
      },
      "source": [
        "## 列間の要素同士のデータ操作"
      ]
    },
    {
      "cell_type": "markdown",
      "metadata": {
        "id": "mv1TdGmJAi9P",
        "colab_type": "text"
      },
      "source": [
        "### 内包表記の列比較"
      ]
    },
    {
      "cell_type": "code",
      "metadata": {
        "id": "Yd16_ojR912b",
        "colab_type": "code",
        "colab": {}
      },
      "source": [
        "def count(a,b):\n",
        "  return (np.sum([1 if str(i)==str(j) else 0 for i,j in zip(a,b)]))"
      ],
      "execution_count": 0,
      "outputs": []
    },
    {
      "cell_type": "code",
      "metadata": {
        "id": "hVVEDe4p4toG",
        "colab_type": "code",
        "colab": {
          "base_uri": "https://localhost:8080/",
          "height": 51
        },
        "outputId": "a3fc16f1-f88f-4e54-d80a-76838a5ae7fa"
      },
      "source": [
        "start = time.time()\n",
        "print(count(df['B'],df['C']))\n",
        "elapsed_time = time.time() - start\n",
        "print(elapsed_time)"
      ],
      "execution_count": 26,
      "outputs": [
        {
          "output_type": "stream",
          "text": [
            "50000\n",
            "0.0778651237487793\n"
          ],
          "name": "stdout"
        }
      ]
    },
    {
      "cell_type": "markdown",
      "metadata": {
        "id": "kh6IIwdMAnHy",
        "colab_type": "text"
      },
      "source": [
        "### Pandasの列比較"
      ]
    },
    {
      "cell_type": "code",
      "metadata": {
        "id": "Ki37d1b4-MOw",
        "colab_type": "code",
        "colab": {
          "base_uri": "https://localhost:8080/",
          "height": 51
        },
        "outputId": "33f30321-414b-4eee-8e41-e1bd8162aa05"
      },
      "source": [
        "start = time.time()\n",
        "print((df['B']==df['C']).astype(int).sum())\n",
        "elapsed_time = time.time() - start\n",
        "print(elapsed_time)"
      ],
      "execution_count": 36,
      "outputs": [
        {
          "output_type": "stream",
          "text": [
            "50000\n",
            "0.003384113311767578\n"
          ],
          "name": "stdout"
        }
      ]
    },
    {
      "cell_type": "markdown",
      "metadata": {
        "id": "Bakm94EeAyMC",
        "colab_type": "text"
      },
      "source": [
        "## 要素への関数適用"
      ]
    },
    {
      "cell_type": "markdown",
      "metadata": {
        "id": "TCw9SSnnBnMh",
        "colab_type": "text"
      },
      "source": [
        "### 内包表記"
      ]
    },
    {
      "cell_type": "code",
      "metadata": {
        "id": "zeIXtf2aA_IM",
        "colab_type": "code",
        "colab": {
          "base_uri": "https://localhost:8080/",
          "height": 136
        },
        "outputId": "f9626366-5327-4a58-c5fe-0b98959a68c4"
      },
      "source": [
        "df = pd.DataFrame({ 'A' : np.arange(100000)})\n",
        "start = time.time()\n",
        "df['B'] = [i if i%2==0 else np.nan for i in df['A']]\n",
        "elapsed_time = time.time() - start\n",
        "print(elapsed_time)\n",
        "df['B'].head()"
      ],
      "execution_count": 46,
      "outputs": [
        {
          "output_type": "stream",
          "text": [
            "0.04317903518676758\n"
          ],
          "name": "stdout"
        },
        {
          "output_type": "execute_result",
          "data": {
            "text/plain": [
              "0    0.0\n",
              "1    NaN\n",
              "2    2.0\n",
              "3    NaN\n",
              "4    4.0\n",
              "Name: B, dtype: float64"
            ]
          },
          "metadata": {
            "tags": []
          },
          "execution_count": 46
        }
      ]
    },
    {
      "cell_type": "markdown",
      "metadata": {
        "id": "6E4v3ktIDLIL",
        "colab_type": "text"
      },
      "source": [
        "### lambda式"
      ]
    },
    {
      "cell_type": "code",
      "metadata": {
        "id": "ixVKsuYFDo04",
        "colab_type": "code",
        "colab": {
          "base_uri": "https://localhost:8080/",
          "height": 136
        },
        "outputId": "7493e35f-7c42-462c-d096-cd55c7926f31"
      },
      "source": [
        "df = pd.DataFrame({ 'A' : np.arange(100000)})\n",
        "start = time.time()\n",
        "df['B'] = df['A'].map(lambda x: x if x%2==0 else np.nan)\n",
        "elapsed_time = time.time() - start\n",
        "print(elapsed_time)\n",
        "df['B'].head()"
      ],
      "execution_count": 52,
      "outputs": [
        {
          "output_type": "stream",
          "text": [
            "0.03572845458984375\n"
          ],
          "name": "stdout"
        },
        {
          "output_type": "execute_result",
          "data": {
            "text/plain": [
              "0    0.0\n",
              "1    NaN\n",
              "2    2.0\n",
              "3    NaN\n",
              "4    4.0\n",
              "Name: B, dtype: float64"
            ]
          },
          "metadata": {
            "tags": []
          },
          "execution_count": 52
        }
      ]
    },
    {
      "cell_type": "markdown",
      "metadata": {
        "id": "B7o1pgZNJaZj",
        "colab_type": "text"
      },
      "source": [
        "## カウント"
      ]
    },
    {
      "cell_type": "code",
      "metadata": {
        "id": "r2L3SiLmHtN6",
        "colab_type": "code",
        "colab": {
          "base_uri": "https://localhost:8080/",
          "height": 419
        },
        "outputId": "e14b5713-00fc-495f-b9b1-4b5c03c99725"
      },
      "source": [
        "df = pd.DataFrame({ 'A' : np.arange(100000),\n",
        "                      'B' : np.random.randint(0, 100000, (100000))\n",
        "                   })\n",
        "df"
      ],
      "execution_count": 67,
      "outputs": [
        {
          "output_type": "execute_result",
          "data": {
            "text/html": [
              "<div>\n",
              "<style scoped>\n",
              "    .dataframe tbody tr th:only-of-type {\n",
              "        vertical-align: middle;\n",
              "    }\n",
              "\n",
              "    .dataframe tbody tr th {\n",
              "        vertical-align: top;\n",
              "    }\n",
              "\n",
              "    .dataframe thead th {\n",
              "        text-align: right;\n",
              "    }\n",
              "</style>\n",
              "<table border=\"1\" class=\"dataframe\">\n",
              "  <thead>\n",
              "    <tr style=\"text-align: right;\">\n",
              "      <th></th>\n",
              "      <th>A</th>\n",
              "      <th>B</th>\n",
              "    </tr>\n",
              "  </thead>\n",
              "  <tbody>\n",
              "    <tr>\n",
              "      <th>0</th>\n",
              "      <td>0</td>\n",
              "      <td>50126</td>\n",
              "    </tr>\n",
              "    <tr>\n",
              "      <th>1</th>\n",
              "      <td>1</td>\n",
              "      <td>37705</td>\n",
              "    </tr>\n",
              "    <tr>\n",
              "      <th>2</th>\n",
              "      <td>2</td>\n",
              "      <td>58348</td>\n",
              "    </tr>\n",
              "    <tr>\n",
              "      <th>3</th>\n",
              "      <td>3</td>\n",
              "      <td>74887</td>\n",
              "    </tr>\n",
              "    <tr>\n",
              "      <th>4</th>\n",
              "      <td>4</td>\n",
              "      <td>71228</td>\n",
              "    </tr>\n",
              "    <tr>\n",
              "      <th>...</th>\n",
              "      <td>...</td>\n",
              "      <td>...</td>\n",
              "    </tr>\n",
              "    <tr>\n",
              "      <th>99995</th>\n",
              "      <td>99995</td>\n",
              "      <td>55753</td>\n",
              "    </tr>\n",
              "    <tr>\n",
              "      <th>99996</th>\n",
              "      <td>99996</td>\n",
              "      <td>28286</td>\n",
              "    </tr>\n",
              "    <tr>\n",
              "      <th>99997</th>\n",
              "      <td>99997</td>\n",
              "      <td>56685</td>\n",
              "    </tr>\n",
              "    <tr>\n",
              "      <th>99998</th>\n",
              "      <td>99998</td>\n",
              "      <td>99578</td>\n",
              "    </tr>\n",
              "    <tr>\n",
              "      <th>99999</th>\n",
              "      <td>99999</td>\n",
              "      <td>55534</td>\n",
              "    </tr>\n",
              "  </tbody>\n",
              "</table>\n",
              "<p>100000 rows × 2 columns</p>\n",
              "</div>"
            ],
            "text/plain": [
              "           A      B\n",
              "0          0  50126\n",
              "1          1  37705\n",
              "2          2  58348\n",
              "3          3  74887\n",
              "4          4  71228\n",
              "...      ...    ...\n",
              "99995  99995  55753\n",
              "99996  99996  28286\n",
              "99997  99997  56685\n",
              "99998  99998  99578\n",
              "99999  99999  55534\n",
              "\n",
              "[100000 rows x 2 columns]"
            ]
          },
          "metadata": {
            "tags": []
          },
          "execution_count": 67
        }
      ]
    },
    {
      "cell_type": "markdown",
      "metadata": {
        "id": "BqOjEbH-JSyD",
        "colab_type": "text"
      },
      "source": [
        "### len()+unique()"
      ]
    },
    {
      "cell_type": "code",
      "metadata": {
        "id": "NaQreiBQHUb2",
        "colab_type": "code",
        "colab": {
          "base_uri": "https://localhost:8080/",
          "height": 51
        },
        "outputId": "9b4cfc1b-bf34-44df-c05a-65917ed4f7ad"
      },
      "source": [
        "start = time.time()\n",
        "print(len(df['B'].unique()))\n",
        "elapsed_time = time.time() - start\n",
        "print(elapsed_time)"
      ],
      "execution_count": 68,
      "outputs": [
        {
          "output_type": "stream",
          "text": [
            "63331\n",
            "0.010328054428100586\n"
          ],
          "name": "stdout"
        }
      ]
    },
    {
      "cell_type": "markdown",
      "metadata": {
        "id": "BLPjR68uJhx-",
        "colab_type": "text"
      },
      "source": [
        "### nunique()"
      ]
    },
    {
      "cell_type": "code",
      "metadata": {
        "id": "WiaYQUHkIssY",
        "colab_type": "code",
        "colab": {
          "base_uri": "https://localhost:8080/",
          "height": 51
        },
        "outputId": "8ff48acc-69d1-4a4b-d762-2de456b48d5a"
      },
      "source": [
        "start = time.time()\n",
        "print(df['B'].nunique())\n",
        "elapsed_time = time.time() - start\n",
        "print(elapsed_time)"
      ],
      "execution_count": 70,
      "outputs": [
        {
          "output_type": "stream",
          "text": [
            "63331\n",
            "0.007768869400024414\n"
          ],
          "name": "stdout"
        }
      ]
    },
    {
      "cell_type": "markdown",
      "metadata": {
        "id": "6e0sgsH3VZvZ",
        "colab_type": "text"
      },
      "source": [
        "## その他カウント"
      ]
    },
    {
      "cell_type": "code",
      "metadata": {
        "id": "LPMrol58LqYh",
        "colab_type": "code",
        "colab": {
          "base_uri": "https://localhost:8080/",
          "height": 419
        },
        "outputId": "f93a8801-fd7c-4aeb-f156-e8f29fb123a1"
      },
      "source": [
        "df = pd.DataFrame({ 'A' : np.arange(100000),\n",
        "                      'B' : 'To be or not to be that is the question'\n",
        "                   })\n",
        "df"
      ],
      "execution_count": 3,
      "outputs": [
        {
          "output_type": "execute_result",
          "data": {
            "text/html": [
              "<div>\n",
              "<style scoped>\n",
              "    .dataframe tbody tr th:only-of-type {\n",
              "        vertical-align: middle;\n",
              "    }\n",
              "\n",
              "    .dataframe tbody tr th {\n",
              "        vertical-align: top;\n",
              "    }\n",
              "\n",
              "    .dataframe thead th {\n",
              "        text-align: right;\n",
              "    }\n",
              "</style>\n",
              "<table border=\"1\" class=\"dataframe\">\n",
              "  <thead>\n",
              "    <tr style=\"text-align: right;\">\n",
              "      <th></th>\n",
              "      <th>A</th>\n",
              "      <th>B</th>\n",
              "    </tr>\n",
              "  </thead>\n",
              "  <tbody>\n",
              "    <tr>\n",
              "      <th>0</th>\n",
              "      <td>0</td>\n",
              "      <td>To be or not to be that is the question</td>\n",
              "    </tr>\n",
              "    <tr>\n",
              "      <th>1</th>\n",
              "      <td>1</td>\n",
              "      <td>To be or not to be that is the question</td>\n",
              "    </tr>\n",
              "    <tr>\n",
              "      <th>2</th>\n",
              "      <td>2</td>\n",
              "      <td>To be or not to be that is the question</td>\n",
              "    </tr>\n",
              "    <tr>\n",
              "      <th>3</th>\n",
              "      <td>3</td>\n",
              "      <td>To be or not to be that is the question</td>\n",
              "    </tr>\n",
              "    <tr>\n",
              "      <th>4</th>\n",
              "      <td>4</td>\n",
              "      <td>To be or not to be that is the question</td>\n",
              "    </tr>\n",
              "    <tr>\n",
              "      <th>...</th>\n",
              "      <td>...</td>\n",
              "      <td>...</td>\n",
              "    </tr>\n",
              "    <tr>\n",
              "      <th>99995</th>\n",
              "      <td>99995</td>\n",
              "      <td>To be or not to be that is the question</td>\n",
              "    </tr>\n",
              "    <tr>\n",
              "      <th>99996</th>\n",
              "      <td>99996</td>\n",
              "      <td>To be or not to be that is the question</td>\n",
              "    </tr>\n",
              "    <tr>\n",
              "      <th>99997</th>\n",
              "      <td>99997</td>\n",
              "      <td>To be or not to be that is the question</td>\n",
              "    </tr>\n",
              "    <tr>\n",
              "      <th>99998</th>\n",
              "      <td>99998</td>\n",
              "      <td>To be or not to be that is the question</td>\n",
              "    </tr>\n",
              "    <tr>\n",
              "      <th>99999</th>\n",
              "      <td>99999</td>\n",
              "      <td>To be or not to be that is the question</td>\n",
              "    </tr>\n",
              "  </tbody>\n",
              "</table>\n",
              "<p>100000 rows × 2 columns</p>\n",
              "</div>"
            ],
            "text/plain": [
              "           A                                        B\n",
              "0          0  To be or not to be that is the question\n",
              "1          1  To be or not to be that is the question\n",
              "2          2  To be or not to be that is the question\n",
              "3          3  To be or not to be that is the question\n",
              "4          4  To be or not to be that is the question\n",
              "...      ...                                      ...\n",
              "99995  99995  To be or not to be that is the question\n",
              "99996  99996  To be or not to be that is the question\n",
              "99997  99997  To be or not to be that is the question\n",
              "99998  99998  To be or not to be that is the question\n",
              "99999  99999  To be or not to be that is the question\n",
              "\n",
              "[100000 rows x 2 columns]"
            ]
          },
          "metadata": {
            "tags": []
          },
          "execution_count": 3
        }
      ]
    },
    {
      "cell_type": "code",
      "metadata": {
        "id": "NpFWA75dMAF7",
        "colab_type": "code",
        "colab": {}
      },
      "source": [
        "import collections"
      ],
      "execution_count": 0,
      "outputs": []
    },
    {
      "cell_type": "code",
      "metadata": {
        "id": "r1x8hUpYLf2r",
        "colab_type": "code",
        "colab": {
          "base_uri": "https://localhost:8080/",
          "height": 51
        },
        "outputId": "6b5c022e-4c77-4454-d2b6-c712b4ac927c"
      },
      "source": [
        "start = time.time()\n",
        "print(collections.Counter([i for j in df['B'].values.tolist() for i in j.split(\" \")]))\n",
        "elapsed_time = time.time() - start\n",
        "print(elapsed_time)"
      ],
      "execution_count": 26,
      "outputs": [
        {
          "output_type": "stream",
          "text": [
            "Counter({'be': 200000, 'To': 100000, 'or': 100000, 'not': 100000, 'to': 100000, 'that': 100000, 'is': 100000, 'the': 100000, 'question': 100000})\n",
            "0.22527837753295898\n"
          ],
          "name": "stdout"
        }
      ]
    },
    {
      "cell_type": "code",
      "metadata": {
        "id": "HOVyzc-uMuqj",
        "colab_type": "code",
        "colab": {
          "base_uri": "https://localhost:8080/",
          "height": 51
        },
        "outputId": "80a23284-0ced-440c-e08a-f01ddb903401"
      },
      "source": [
        "start = time.time()\n",
        "c = collections.Counter()\n",
        "c.update([i for j in df['B'].values.tolist() for i in j.split(\" \")])\n",
        "print(c)\n",
        "elapsed_time = time.time() - start\n",
        "print(elapsed_time)"
      ],
      "execution_count": 35,
      "outputs": [
        {
          "output_type": "stream",
          "text": [
            "Counter({'be': 200000, 'To': 100000, 'or': 100000, 'not': 100000, 'to': 100000, 'that': 100000, 'is': 100000, 'the': 100000, 'question': 100000})\n",
            "0.21963047981262207\n"
          ],
          "name": "stdout"
        }
      ]
    }
  ]
}